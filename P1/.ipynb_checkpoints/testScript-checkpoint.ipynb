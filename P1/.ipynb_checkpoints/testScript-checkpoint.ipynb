{
 "cells": [
  {
   "cell_type": "code",
   "execution_count": 1,
   "metadata": {
    "collapsed": true
   },
   "outputs": [],
   "source": [
    "# Just a test to see if python 2.7 works in jupyter notebook!"
   ]
  },
  {
   "cell_type": "code",
   "execution_count": 2,
   "metadata": {
    "collapsed": false
   },
   "outputs": [],
   "source": [
    "import sys\n",
    "import os\n",
    "import scipy\n",
    "import numpy as np\n",
    "import pandas as pd"
   ]
  },
  {
   "cell_type": "code",
   "execution_count": 5,
   "metadata": {
    "collapsed": false
   },
   "outputs": [
    {
     "name": "stdout",
     "output_type": "stream",
     "text": [
      "   Septal Length  Septal Width  Pedal Length  Pedal Width      Flower Type\n",
      "0            7.2           3.2           6.0          1.8   Iris-virginica\n",
      "1            5.4           3.0           4.5          1.5  Iris-versicolor\n",
      "2            5.7           2.9           4.2          1.3  Iris-versicolor\n",
      "3            6.5           3.2           5.1          2.0   Iris-virginica\n",
      "4            4.8           3.4           1.9          0.2      Iris-setosa\n",
      "   Septal Length  Septal Width  Pedal Length  Pedal Width Flower Type\n",
      "0            5.1           3.5           1.4          0.2            \n",
      "1            4.9           3.0           1.4          0.2            \n",
      "2            4.7           3.2           1.3          0.2            \n",
      "3            4.6           3.1           1.5          0.2            \n",
      "4            5.0           3.6           1.4          0.2            \n"
     ]
    }
   ],
   "source": [
    "df_train = pd.read_csv(\"/Users/bmc/Desktop/CSCI-48100/P1/data/iris-shuffled.txt\",\n",
    "                      sep=\",\",\n",
    "                      names=[\"Septal Length\",\n",
    "                            \"Septal Width\",\n",
    "                            \"Pedal Length\",\n",
    "                            \"Pedal Width\",\n",
    "                            \"Flower Type\"])\n",
    "df_test = pd.read_csv(\"/Users/bmc/Desktop/CSCI-48100/P1/data/iris.txt\",\n",
    "                      sep=\",\",\n",
    "                      names=[\"Septal Length\",\n",
    "                            \"Septal Width\",\n",
    "                            \"Pedal Length\",\n",
    "                            \"Pedal Width\"])\n",
    "\n",
    "df_test[\"Flower Type\"] = \" \"\n",
    "print df_train.head()\n",
    "print df_test.head()"
   ]
  },
  {
   "cell_type": "code",
   "execution_count": 8,
   "metadata": {
    "collapsed": false
   },
   "outputs": [],
   "source": [
    "df_combined = pd.concat([df_train, df_test])"
   ]
  },
  {
   "cell_type": "code",
   "execution_count": 9,
   "metadata": {
    "collapsed": false
   },
   "outputs": [
    {
     "data": {
      "text/html": [
       "<div>\n",
       "<table border=\"1\" class=\"dataframe\">\n",
       "  <thead>\n",
       "    <tr style=\"text-align: right;\">\n",
       "      <th></th>\n",
       "      <th>Septal Length</th>\n",
       "      <th>Septal Width</th>\n",
       "      <th>Pedal Length</th>\n",
       "      <th>Pedal Width</th>\n",
       "      <th>Flower Type</th>\n",
       "    </tr>\n",
       "  </thead>\n",
       "  <tbody>\n",
       "    <tr>\n",
       "      <th>0</th>\n",
       "      <td>7.2</td>\n",
       "      <td>3.2</td>\n",
       "      <td>6.0</td>\n",
       "      <td>1.8</td>\n",
       "      <td>Iris-virginica</td>\n",
       "    </tr>\n",
       "    <tr>\n",
       "      <th>1</th>\n",
       "      <td>5.4</td>\n",
       "      <td>3.0</td>\n",
       "      <td>4.5</td>\n",
       "      <td>1.5</td>\n",
       "      <td>Iris-versicolor</td>\n",
       "    </tr>\n",
       "    <tr>\n",
       "      <th>2</th>\n",
       "      <td>5.7</td>\n",
       "      <td>2.9</td>\n",
       "      <td>4.2</td>\n",
       "      <td>1.3</td>\n",
       "      <td>Iris-versicolor</td>\n",
       "    </tr>\n",
       "    <tr>\n",
       "      <th>3</th>\n",
       "      <td>6.5</td>\n",
       "      <td>3.2</td>\n",
       "      <td>5.1</td>\n",
       "      <td>2.0</td>\n",
       "      <td>Iris-virginica</td>\n",
       "    </tr>\n",
       "    <tr>\n",
       "      <th>4</th>\n",
       "      <td>4.8</td>\n",
       "      <td>3.4</td>\n",
       "      <td>1.9</td>\n",
       "      <td>0.2</td>\n",
       "      <td>Iris-setosa</td>\n",
       "    </tr>\n",
       "  </tbody>\n",
       "</table>\n",
       "</div>"
      ],
      "text/plain": [
       "   Septal Length  Septal Width  Pedal Length  Pedal Width      Flower Type\n",
       "0            7.2           3.2           6.0          1.8   Iris-virginica\n",
       "1            5.4           3.0           4.5          1.5  Iris-versicolor\n",
       "2            5.7           2.9           4.2          1.3  Iris-versicolor\n",
       "3            6.5           3.2           5.1          2.0   Iris-virginica\n",
       "4            4.8           3.4           1.9          0.2      Iris-setosa"
      ]
     },
     "execution_count": 9,
     "metadata": {},
     "output_type": "execute_result"
    }
   ],
   "source": [
    "df_combined.head()"
   ]
  },
  {
   "cell_type": "code",
   "execution_count": 31,
   "metadata": {
    "collapsed": false
   },
   "outputs": [],
   "source": [
    "df_combined[\"id\"] = [i for i in range(300)]\n",
    "df_combined.head()\n",
    "cols = df_combined.columns.tolist()\n",
    "cols = cols[-1:] + cols[:-1]\n",
    "df_combined_reordered = df_combined[cols]"
   ]
  },
  {
   "cell_type": "code",
   "execution_count": null,
   "metadata": {
    "collapsed": true
   },
   "outputs": [],
   "source": []
  }
 ],
 "metadata": {
  "kernelspec": {
   "display_name": "Python 2",
   "language": "python",
   "name": "python2"
  },
  "language_info": {
   "codemirror_mode": {
    "name": "ipython",
    "version": 2
   },
   "file_extension": ".py",
   "mimetype": "text/x-python",
   "name": "python",
   "nbconvert_exporter": "python",
   "pygments_lexer": "ipython2",
   "version": "2.7.10"
  }
 },
 "nbformat": 4,
 "nbformat_minor": 0
}
